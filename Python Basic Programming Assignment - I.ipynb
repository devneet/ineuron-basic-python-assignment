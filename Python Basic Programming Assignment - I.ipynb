{
 "cells": [
  {
   "cell_type": "markdown",
   "metadata": {},
   "source": [
    "# Python Basic Programming Assignment - I"
   ]
  },
  {
   "cell_type": "markdown",
   "metadata": {},
   "source": [
    "#### Q1). Write a Python program to print &quot;Hello Python&quot;?"
   ]
  },
  {
   "cell_type": "code",
   "execution_count": 2,
   "metadata": {},
   "outputs": [],
   "source": [
    "def printHelloWorld():\n",
    "    print(\"Hello Python\")"
   ]
  },
  {
   "cell_type": "code",
   "execution_count": 3,
   "metadata": {},
   "outputs": [
    {
     "name": "stdout",
     "output_type": "stream",
     "text": [
      "Hello Python\n"
     ]
    }
   ],
   "source": [
    "printHelloWorld()"
   ]
  },
  {
   "cell_type": "markdown",
   "metadata": {},
   "source": [
    "#### Q2) Write a Python program to do arithmetical operations addition and division.?"
   ]
  },
  {
   "cell_type": "code",
   "execution_count": 4,
   "metadata": {},
   "outputs": [],
   "source": [
    "def performAddMulOperations (a,b):\n",
    "    return a+b,a*b"
   ]
  },
  {
   "cell_type": "code",
   "execution_count": 9,
   "metadata": {},
   "outputs": [
    {
     "name": "stdout",
     "output_type": "stream",
     "text": [
      "Enter First Number : 1\n",
      "Enter Second Number : 2\n",
      "The sum and the product of the given nos. are : 3, 2\n"
     ]
    }
   ],
   "source": [
    "num_1 = int(input(\"Enter First Number : \"))\n",
    "num_2 = int(input(\"Enter Second Number : \"))\n",
    "s,m = performAddMulOperations(num_1,num_2)\n",
    "print(\"The sum and the product of the given nos. are : %d, %d\" %(s,m))"
   ]
  },
  {
   "cell_type": "markdown",
   "metadata": {},
   "source": [
    "#### Q3) Write a Python program to find the area of a triangle?"
   ]
  },
  {
   "cell_type": "code",
   "execution_count": 10,
   "metadata": {},
   "outputs": [],
   "source": [
    "def getAreaOfTriangle(breadth,height):\n",
    "    return 0.5*breadth*height"
   ]
  },
  {
   "cell_type": "code",
   "execution_count": 13,
   "metadata": {},
   "outputs": [
    {
     "name": "stdout",
     "output_type": "stream",
     "text": [
      "Enter The Breadth in meters : 1.5\n",
      "Enter The Height in meters : 10\n",
      "The area of the triangle is : 7.50 meter square.\n"
     ]
    }
   ],
   "source": [
    "breadth = float(input(\"Enter The Breadth in meters : \"))\n",
    "height = float(input(\"Enter The Height in meters : \"))\n",
    "\n",
    "area = getAreaOfTriangle(breadth,height)\n",
    "\n",
    "print(\"The area of the triangle is : %.2f meter square.\" %area)"
   ]
  },
  {
   "cell_type": "markdown",
   "metadata": {},
   "source": [
    "#### Q4) Write a Python program to swap two variables?"
   ]
  },
  {
   "cell_type": "code",
   "execution_count": 23,
   "metadata": {},
   "outputs": [],
   "source": [
    "def swapNumbers(x,y):\n",
    "    temp = x\n",
    "    x = y\n",
    "    y = temp\n",
    "    \n",
    "    return x,y\n",
    "    "
   ]
  },
  {
   "cell_type": "code",
   "execution_count": 24,
   "metadata": {},
   "outputs": [
    {
     "name": "stdout",
     "output_type": "stream",
     "text": [
      "Enter First Number : 23\n",
      "Enter Second Number : 45\n",
      "Values of num_1 and num_2 prior to swapping operation : 23,45\n",
      "Values of num_1 and num_2 post swapping operation : 45,23\n"
     ]
    }
   ],
   "source": [
    "num_1 = int(input(\"Enter First Number : \"))\n",
    "num_2 = int(input(\"Enter Second Number : \"))\n",
    "\n",
    "print(\"Values of num_1 and num_2 prior to swapping operation : %d,%d\" %(num_1,num_2))\n",
    "\n",
    "num_1, num_2 = swapNumbers(num_1,num_2)\n",
    "\n",
    "print(\"Values of num_1 and num_2 post swapping operation : %d,%d\" %(num_1,num_2))"
   ]
  },
  {
   "cell_type": "markdown",
   "metadata": {},
   "source": [
    "#### Q5) Write a Python program to generate a random number?"
   ]
  },
  {
   "cell_type": "code",
   "execution_count": 32,
   "metadata": {},
   "outputs": [],
   "source": [
    "from random import randint\n",
    "\n",
    "def generateRandomNumber(start,end):\n",
    "    return randint(start,end)"
   ]
  },
  {
   "cell_type": "code",
   "execution_count": 33,
   "metadata": {},
   "outputs": [
    {
     "name": "stdout",
     "output_type": "stream",
     "text": [
      "Enter The Starting Value 1\n",
      "Enter The Ending Value 5\n",
      "The random number generated is :  2\n"
     ]
    }
   ],
   "source": [
    "start = int(input(\"Enter The Starting Value \"))\n",
    "end = int(input(\"Enter The Ending Value \"))\n",
    "random_number = generateRandomNumber(start,end)\n",
    "print(\"The random number generated is : \",random_number)"
   ]
  }
 ],
 "metadata": {
  "kernelspec": {
   "display_name": "Python 3",
   "language": "python",
   "name": "python3"
  },
  "language_info": {
   "codemirror_mode": {
    "name": "ipython",
    "version": 3
   },
   "file_extension": ".py",
   "mimetype": "text/x-python",
   "name": "python",
   "nbconvert_exporter": "python",
   "pygments_lexer": "ipython3",
   "version": "3.8.5"
  }
 },
 "nbformat": 4,
 "nbformat_minor": 4
}
