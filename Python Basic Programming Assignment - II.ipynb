{
 "cells": [
  {
   "cell_type": "markdown",
   "metadata": {},
   "source": [
    "# Python Basic Programming Assignment - II"
   ]
  },
  {
   "cell_type": "markdown",
   "metadata": {},
   "source": [
    "#### Q1) Write a Python program to convert kilometers to miles?"
   ]
  },
  {
   "cell_type": "code",
   "execution_count": 1,
   "metadata": {},
   "outputs": [],
   "source": [
    "def convertKiloMeterToMile(km_value):\n",
    "    return round(km_value * 0.62137119,2)"
   ]
  },
  {
   "cell_type": "code",
   "execution_count": 5,
   "metadata": {},
   "outputs": [
    {
     "name": "stdout",
     "output_type": "stream",
     "text": [
      "Enter the distance to be converted in KM : 1.2\n",
      "The distance to be converted from 1.20 kilometers in miles is : 0.75 miles\n"
     ]
    }
   ],
   "source": [
    "km_value = float(input(\"Enter the distance to be converted in KM : \"))\n",
    "mile_value = convertKiloMeterToMile(km_value)\n",
    "print(\"The distance to be converted from %.2f kilometers in miles is : %.2f miles\" \n",
    "      %(km_value,mile_value))"
   ]
  },
  {
   "cell_type": "markdown",
   "metadata": {},
   "source": [
    "#### 2) Write a Python program to convert Celsius to Fahrenheit?"
   ]
  },
  {
   "cell_type": "code",
   "execution_count": 7,
   "metadata": {},
   "outputs": [],
   "source": [
    "def convertCelsiusToFahrenheit(temperature):\n",
    "    return 32+((9/5)*temperature)"
   ]
  },
  {
   "cell_type": "code",
   "execution_count": 8,
   "metadata": {},
   "outputs": [
    {
     "name": "stdout",
     "output_type": "stream",
     "text": [
      "Enter the temperature value in Celcius : 35.6\n",
      "The temperature to be converted from 35.60 Celcius in Fahrenheit is : 96.08 Fahrenheit\n"
     ]
    }
   ],
   "source": [
    "temp_value_in_cel = float(input(\"Enter the temperature value in Celcius : \"))\n",
    "temp_value_in_far = convertCelsiusToFahrenheit(temp_value_in_cel)\n",
    "print(\"The temperature to be converted from %.2f Celcius in Fahrenheit is : %.2f Fahrenheit\" \n",
    "      %(temp_value_in_cel,temp_value_in_far))"
   ]
  },
  {
   "cell_type": "markdown",
   "metadata": {},
   "source": [
    "#### Q3) Write a Python program to display calendar?"
   ]
  },
  {
   "cell_type": "code",
   "execution_count": 12,
   "metadata": {},
   "outputs": [],
   "source": [
    "import calendar\n",
    "\n",
    "def displayCalendar(year,month):\n",
    "    print('\\n\\n'+calendar.month(year,month))    "
   ]
  },
  {
   "cell_type": "code",
   "execution_count": 13,
   "metadata": {},
   "outputs": [
    {
     "name": "stdout",
     "output_type": "stream",
     "text": [
      "Enter the year value : 2021\n",
      "Enter the month value : 4\n",
      "\n",
      "\n",
      "     April 2021\n",
      "Mo Tu We Th Fr Sa Su\n",
      "          1  2  3  4\n",
      " 5  6  7  8  9 10 11\n",
      "12 13 14 15 16 17 18\n",
      "19 20 21 22 23 24 25\n",
      "26 27 28 29 30\n",
      "\n"
     ]
    }
   ],
   "source": [
    "year = int(input(\"Enter the year value : \"))\n",
    "month = int(input(\"Enter the month value : \"))\n",
    "displayCalendar(year,month)"
   ]
  },
  {
   "cell_type": "markdown",
   "metadata": {},
   "source": [
    "#### Q4) Write a Python program to solve quadratic equation?"
   ]
  },
  {
   "cell_type": "code",
   "execution_count": 36,
   "metadata": {},
   "outputs": [],
   "source": [
    "import math\n",
    "\n",
    "def solveQuadraticEquation(a,b,c):\n",
    "    \n",
    "    discriminant = b**2 - 4*a*c\n",
    "    sqrt_value = math.sqrt(abs(discriminant))\n",
    "    \n",
    "    if discriminant == 0 :\n",
    "        x1 = (-b+sqrt_value)/2*a\n",
    "        x2 = (-b-sqrt_value)/2*a\n",
    "        print(\"\\n\\nThe solution has a double root.\")\n",
    "        \n",
    "    elif discriminant > 0 :\n",
    "        x1 = (-b+sqrt_value)/2*a\n",
    "        x2 = (-b-sqrt_value)/2*a\n",
    "        print(\"\\n\\nThe solution has two real roots.\")\n",
    "        \n",
    "    else :\n",
    "        x1 = complex((-b)/2*a,sqrt_value/2*a)\n",
    "        x2 = complex((-b)/2*a,-sqrt_value/2*a)\n",
    "        print(\"\\n\\nThe solution has two imaginary roots.\")\n",
    "    \n",
    "    return x1, x2"
   ]
  },
  {
   "cell_type": "code",
   "execution_count": 37,
   "metadata": {},
   "outputs": [
    {
     "name": "stdout",
     "output_type": "stream",
     "text": [
      "Enter the value of 'a' for the quadratic equation of type : 'ax^2 + bx + c' : 1\n",
      "Enter the value of 'b' for the quadratic equation of type : 'ax^2 + bx + c' : 10\n",
      "Enter the value of 'c' for the quadratic equation of type : 'ax^2 + bx + c' : -24\n",
      "\n",
      "\n",
      "The solution has two real roots.\n",
      "The roots of the given quadratic equation are : 2.0 and -12.0 respectively.\n"
     ]
    }
   ],
   "source": [
    "# Case I : Real Roots :\n",
    "\n",
    "a = float(input(\"Enter the value of 'a' for the quadratic equation of type : 'ax^2 + bx + c' : \"))\n",
    "b = float(input(\"Enter the value of 'b' for the quadratic equation of type : 'ax^2 + bx + c' : \"))\n",
    "c = float(input(\"Enter the value of 'c' for the quadratic equation of type : 'ax^2 + bx + c' : \"))\n",
    "x1, x2 = solveQuadraticEquation(a,b,c)\n",
    "print(\"The roots of the given quadratic equation are : {} and {} respectively.\".format(x1,x2))"
   ]
  },
  {
   "cell_type": "code",
   "execution_count": 38,
   "metadata": {},
   "outputs": [
    {
     "name": "stdout",
     "output_type": "stream",
     "text": [
      "Enter the value of 'a' for the quadratic equation of type : 'ax^2 + bx + c' : 1\n",
      "Enter the value of 'b' for the quadratic equation of type : 'ax^2 + bx + c' : 2\n",
      "Enter the value of 'c' for the quadratic equation of type : 'ax^2 + bx + c' : 1\n",
      "\n",
      "\n",
      "The solution has a double root.\n",
      "The roots of the given quadratic equation are : -1.0 and -1.0 respectively.\n"
     ]
    }
   ],
   "source": [
    "# Case II : Double Real Roots :\n",
    "\n",
    "a = float(input(\"Enter the value of 'a' for the quadratic equation of type : 'ax^2 + bx + c' : \"))\n",
    "b = float(input(\"Enter the value of 'b' for the quadratic equation of type : 'ax^2 + bx + c' : \"))\n",
    "c = float(input(\"Enter the value of 'c' for the quadratic equation of type : 'ax^2 + bx + c' : \"))\n",
    "x1, x2 = solveQuadraticEquation(a,b,c)\n",
    "print(\"The roots of the given quadratic equation are : {} and {} respectively.\".format(x1,x2))"
   ]
  },
  {
   "cell_type": "code",
   "execution_count": 41,
   "metadata": {},
   "outputs": [
    {
     "name": "stdout",
     "output_type": "stream",
     "text": [
      "Enter the value of 'a' for the quadratic equation of type : 'ax^2 + bx + c' : 2\n",
      "Enter the value of 'b' for the quadratic equation of type : 'ax^2 + bx + c' : 4\n",
      "Enter the value of 'c' for the quadratic equation of type : 'ax^2 + bx + c' : 5\n",
      "\n",
      "\n",
      "The solution has two imaginary roots.\n",
      "The roots of the given quadratic equation are : (-4+4.898979485566356j) and (-4-4.898979485566356j) respectively.\n"
     ]
    }
   ],
   "source": [
    "# Case III : Complex Roots :\n",
    "\n",
    "a = float(input(\"Enter the value of 'a' for the quadratic equation of type : 'ax^2 + bx + c' : \"))\n",
    "b = float(input(\"Enter the value of 'b' for the quadratic equation of type : 'ax^2 + bx + c' : \"))\n",
    "c = float(input(\"Enter the value of 'c' for the quadratic equation of type : 'ax^2 + bx + c' : \"))\n",
    "x1, x2 = solveQuadraticEquation(a,b,c)\n",
    "print(\"The roots of the given quadratic equation are : {} and {} respectively.\".format(x1,x2))"
   ]
  },
  {
   "cell_type": "markdown",
   "metadata": {},
   "source": [
    "#### Q6) Write a Python program to swap two variables without temp variable?"
   ]
  },
  {
   "cell_type": "code",
   "execution_count": 44,
   "metadata": {},
   "outputs": [],
   "source": [
    "def swapWithoutTemp(a,b):\n",
    "    \"\"\"\n",
    "    WORKING :\n",
    "    \n",
    "    #######################################################\n",
    "    ##### Initial Value : a = 1, b =2 #####################\n",
    "    ##### Current Value : a = 1 , b = 2 => a = a+b = 3 ####\n",
    "    ##### Current Value : a = 3 , b = 2 => b = a-b = 1 ####\n",
    "    ##### Current Value : a = 3 , b = 1 => a = a-b = 2 ####\n",
    "    ##### Final Value : a = 2 , b = 1 #####################\n",
    "    #######################################################\n",
    "    \n",
    "    \"\"\"\n",
    "    \n",
    "    \n",
    "    a = a+b \n",
    "    b = a-b \n",
    "    a = a-b \n",
    "    return a,b "
   ]
  },
  {
   "cell_type": "code",
   "execution_count": 45,
   "metadata": {},
   "outputs": [
    {
     "name": "stdout",
     "output_type": "stream",
     "text": [
      "Enter First Number : 23\n",
      "Enter Second Number : 45\n",
      "Values of num_1 and num_2 prior to swapping operation : 23,45\n",
      "Values of num_1 and num_2 post swapping operation : 45,23\n"
     ]
    }
   ],
   "source": [
    "num_1 = int(input(\"Enter First Number : \"))\n",
    "num_2 = int(input(\"Enter Second Number : \"))\n",
    "\n",
    "print(\"Values of num_1 and num_2 prior to swapping operation : %d,%d\" %(num_1,num_2))\n",
    "\n",
    "num_1, num_2 = swapWithoutTemp(num_1,num_2)\n",
    "\n",
    "print(\"Values of num_1 and num_2 post swapping operation : %d,%d\" %(num_1,num_2))"
   ]
  }
 ],
 "metadata": {
  "kernelspec": {
   "display_name": "Python 3",
   "language": "python",
   "name": "python3"
  },
  "language_info": {
   "codemirror_mode": {
    "name": "ipython",
    "version": 3
   },
   "file_extension": ".py",
   "mimetype": "text/x-python",
   "name": "python",
   "nbconvert_exporter": "python",
   "pygments_lexer": "ipython3",
   "version": "3.8.5"
  }
 },
 "nbformat": 4,
 "nbformat_minor": 4
}
